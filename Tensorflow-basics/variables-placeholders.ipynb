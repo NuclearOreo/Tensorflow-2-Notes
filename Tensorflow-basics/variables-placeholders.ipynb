{
 "cells": [
  {
   "cell_type": "markdown",
   "metadata": {},
   "source": [
    "# Variable and Placeholder in Tenorflow 2"
   ]
  },
  {
   "cell_type": "code",
   "execution_count": 1,
   "metadata": {},
   "outputs": [],
   "source": [
    "import tensorflow as tf"
   ]
  },
  {
   "cell_type": "code",
   "execution_count": 2,
   "metadata": {},
   "outputs": [],
   "source": [
    "# Creating a tensor with random uniform function\n",
    "my_tensor = tf.random_uniform_initializer(minval=0, maxval=1).__call__((4,4))"
   ]
  },
  {
   "cell_type": "code",
   "execution_count": 3,
   "metadata": {},
   "outputs": [
    {
     "data": {
      "text/plain": [
       "<tf.Tensor: id=6, shape=(4, 4), dtype=float32, numpy=\n",
       "array([[0.58807814, 0.40625322, 0.23118949, 0.04816818],\n",
       "       [0.8973998 , 0.15899467, 0.5152463 , 0.5611603 ],\n",
       "       [0.33926558, 0.7456807 , 0.54303586, 0.53081334],\n",
       "       [0.9495449 , 0.09334528, 0.46892202, 0.46721244]], dtype=float32)>"
      ]
     },
     "execution_count": 3,
     "metadata": {},
     "output_type": "execute_result"
    }
   ],
   "source": [
    "#Print out the tensor\n",
    "my_tensor"
   ]
  },
  {
   "cell_type": "code",
   "execution_count": 4,
   "metadata": {},
   "outputs": [],
   "source": [
    "#Seting a tensorflow variable to my_tensor\n",
    "my_var = tf.Variable(my_tensor)"
   ]
  },
  {
   "cell_type": "code",
   "execution_count": 7,
   "metadata": {},
   "outputs": [
    {
     "data": {
      "text/plain": [
       "<tf.Variable 'Variable:0' shape=(4, 4) dtype=float32, numpy=\n",
       "array([[0.58807814, 0.40625322, 0.23118949, 0.04816818],\n",
       "       [0.8973998 , 0.15899467, 0.5152463 , 0.5611603 ],\n",
       "       [0.33926558, 0.7456807 , 0.54303586, 0.53081334],\n",
       "       [0.9495449 , 0.09334528, 0.46892202, 0.46721244]], dtype=float32)>"
      ]
     },
     "execution_count": 7,
     "metadata": {},
     "output_type": "execute_result"
    }
   ],
   "source": [
    "#Printing the content of the variable\n",
    "my_var"
   ]
  }
 ],
 "metadata": {
  "kernelspec": {
   "display_name": "Python 3",
   "language": "python",
   "name": "python3"
  },
  "language_info": {
   "codemirror_mode": {
    "name": "ipython",
    "version": 3
   },
   "file_extension": ".py",
   "mimetype": "text/x-python",
   "name": "python",
   "nbconvert_exporter": "python",
   "pygments_lexer": "ipython3",
   "version": "3.7.2"
  }
 },
 "nbformat": 4,
 "nbformat_minor": 2
}
