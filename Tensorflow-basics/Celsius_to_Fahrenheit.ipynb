{
 "cells": [
  {
   "cell_type": "markdown",
   "metadata": {},
   "source": [
    "# Celsius to Fahrenheit"
   ]
  },
  {
   "cell_type": "markdown",
   "metadata": {},
   "source": [
    "### Importing all the necessary packages to complete this problem "
   ]
  },
  {
   "cell_type": "code",
   "execution_count": 68,
   "metadata": {},
   "outputs": [],
   "source": [
    "import numpy as np\n",
    "import tensorflow as tf\n",
    "import matplotlib.pyplot as plt"
   ]
  },
  {
   "cell_type": "markdown",
   "metadata": {},
   "source": [
    "### Two numpy array of celsius and fahrenheit corresponding to each other"
   ]
  },
  {
   "cell_type": "code",
   "execution_count": 69,
   "metadata": {},
   "outputs": [],
   "source": [
    "celsius = np.array([-100,-90,-40,-30,0,10,20,50], dtype=float)\n",
    "fahrenheit = np.array([-148,-130,-40,-22,32,50,68,122], dtype=float)"
   ]
  },
  {
   "cell_type": "code",
   "execution_count": 70,
   "metadata": {},
   "outputs": [
    {
     "name": "stdout",
     "output_type": "stream",
     "text": [
      "Fahrenheit = -148.0, Celsius = -100.0\n",
      "Fahrenheit = -130.0, Celsius = -90.0\n",
      "Fahrenheit = -40.0, Celsius = -40.0\n",
      "Fahrenheit = -22.0, Celsius = -30.0\n",
      "Fahrenheit = 32.0, Celsius = 0.0\n",
      "Fahrenheit = 50.0, Celsius = 10.0\n",
      "Fahrenheit = 68.0, Celsius = 20.0\n",
      "Fahrenheit = 122.0, Celsius = 50.0\n"
     ]
    }
   ],
   "source": [
    "for i, f in enumerate(fahrenheit):\n",
    "    print('Fahrenheit = ' + str(f) + ', Celsius = ' + str(celsius[i]))"
   ]
  },
  {
   "cell_type": "markdown",
   "metadata": {},
   "source": [
    "### Creating a model with one layer  with one node and accepting one input"
   ]
  },
  {
   "cell_type": "code",
   "execution_count": 71,
   "metadata": {},
   "outputs": [],
   "source": [
    "model = tf.keras.Sequential([\n",
    "    tf.keras.layers.Dense(units=1, input_shape=[1])\n",
    "])"
   ]
  },
  {
   "cell_type": "markdown",
   "metadata": {},
   "source": [
    "### Setting up the loss function and optimizer for the model. Mean Squared error for the loss and Adam optimizer with learning rate of 1"
   ]
  },
  {
   "cell_type": "code",
   "execution_count": 72,
   "metadata": {},
   "outputs": [],
   "source": [
    "model.compile(loss='mean_squared_error', optimizer=tf.keras.optimizers.Adam(1))"
   ]
  },
  {
   "cell_type": "markdown",
   "metadata": {},
   "source": [
    "### Training the plotting the error and epochs"
   ]
  },
  {
   "cell_type": "code",
   "execution_count": 73,
   "metadata": {},
   "outputs": [
    {
     "data": {
      "text/plain": [
       "[<matplotlib.lines.Line2D at 0x13a717278>]"
      ]
     },
     "execution_count": 73,
     "metadata": {},
     "output_type": "execute_result"
    },
    {
     "data": {
      "image/png": "[encoded data removed]",
      "text/plain": [
       "<Figure size 432x288 with 1 Axes>"
      ]
     },
     "metadata": {
      "needs_background": "light"
     },
     "output_type": "display_data"
    }
   ],
   "source": [
    "history = model.fit(x=celsius, y=fahrenheit, epochs=500, verbose=False)\n",
    "plt.plot(history.history['loss'])"
   ]
  },
  {
   "cell_type": "markdown",
   "metadata": {},
   "source": [
    "### Predicting the result of 100 celsius "
   ]
  },
  {
   "cell_type": "code",
   "execution_count": 74,
   "metadata": {},
   "outputs": [
    {
     "data": {
      "text/plain": [
       "array([[212.]], dtype=float32)"
      ]
     },
     "execution_count": 74,
     "metadata": {},
     "output_type": "execute_result"
    }
   ],
   "source": [
    "model.predict([100.0])"
   ]
  },
  {
   "cell_type": "markdown",
   "metadata": {},
   "source": [
    "### Printing the weights of the model "
   ]
  },
  {
   "cell_type": "code",
   "execution_count": 75,
   "metadata": {},
   "outputs": [
    {
     "name": "stdout",
     "output_type": "stream",
     "text": [
      "Weights of the layer_1: [array([[1.8]], dtype=float32), array([32.000008], dtype=float32)]\n"
     ]
    }
   ],
   "source": [
    "print('Weights of the layer_1: {}'.format(model.get_weights()))"
   ]
  },
  {
   "cell_type": "markdown",
   "metadata": {},
   "source": [
    "### New model with three layers: layer 1 has 4 nodes with one input, layer 2 with 4 nodes, and layer 3 has one output node"
   ]
  },
  {
   "cell_type": "code",
   "execution_count": 76,
   "metadata": {},
   "outputs": [],
   "source": [
    "model = tf.keras.Sequential([\n",
    "    tf.keras.layers.Dense(units=4, input_shape=[1]),\n",
    "    tf.keras.layers.Dense(units=4),\n",
    "    tf.keras.layers.Dense(units=1)\n",
    "])"
   ]
  },
  {
   "cell_type": "markdown",
   "metadata": {},
   "source": [
    "### Setting up the loss function and optimizer for the model. Mean Squared error for the loss and Adam optimizer with learning rate of 1"
   ]
  },
  {
   "cell_type": "code",
   "execution_count": 77,
   "metadata": {},
   "outputs": [],
   "source": [
    "model.compile(loss='mean_squared_error', optimizer=tf.keras.optimizers.Adam(1))"
   ]
  },
  {
   "cell_type": "markdown",
   "metadata": {},
   "source": [
    "### Training the plotting the error and epochs"
   ]
  },
  {
   "cell_type": "code",
   "execution_count": 78,
   "metadata": {},
   "outputs": [
    {
     "data": {
      "text/plain": [
       "[<matplotlib.lines.Line2D at 0x139087c88>]"
      ]
     },
     "execution_count": 78,
     "metadata": {},
     "output_type": "execute_result"
    },
    {
     "data": {
      "image/png": "[encoded data removed]",
      "text/plain": [
       "<Figure size 432x288 with 1 Axes>"
      ]
     },
     "metadata": {
      "needs_background": "light"
     },
     "output_type": "display_data"
    }
   ],
   "source": [
    "history = model.fit(x=celsius, y=fahrenheit, epochs=500, verbose=False)\n",
    "plt.plot(history.history['loss'])"
   ]
  },
  {
   "cell_type": "markdown",
   "metadata": {},
   "source": [
    "### Printing the weights of the model "
   ]
  },
  {
   "cell_type": "code",
   "execution_count": 79,
   "metadata": {},
   "outputs": [
    {
     "name": "stdout",
     "output_type": "stream",
     "text": [
      "*****Printing the weight******\n"
     ]
    },
    {
     "data": {
      "text/plain": [
       "[array([[ 0.83139956,  0.5601943 ,  0.281906  , -0.26466483]],\n",
       "       dtype=float32),\n",
       " array([2.2308517, 2.5592024, 2.3472261, 3.2207437], dtype=float32),\n",
       " array([[ 3.071997  ,  3.075772  ,  3.4436946 ,  4.895934  ],\n",
       "        [-4.435833  , -4.0742664 , -3.5017755 , -1.555285  ],\n",
       "        [-3.294771  , -1.2731649 , -6.335527  ,  2.3959959 ],\n",
       "        [ 0.52862066,  3.4671586 ,  1.7313765 ,  4.868533  ]],\n",
       "       dtype=float32),\n",
       " array([ -6.5773444, -10.080083 ,  -1.6456256,  -6.6590934], dtype=float32),\n",
       " array([[-0.4611488 ],\n",
       "        [-0.62085974],\n",
       "        [ 0.5490859 ],\n",
       "        [ 0.5623999 ]], dtype=float32),\n",
       " array([15.285843], dtype=float32)]"
      ]
     },
     "execution_count": 79,
     "metadata": {},
     "output_type": "execute_result"
    }
   ],
   "source": [
    "print('*****Printing the weight******')\n",
    "model.get_weights()"
   ]
  },
  {
   "cell_type": "markdown",
   "metadata": {},
   "source": [
    "### Predicting the result of 100 celsius  "
   ]
  },
  {
   "cell_type": "code",
   "execution_count": 80,
   "metadata": {},
   "outputs": [
    {
     "data": {
      "text/plain": [
       "array([[211.99998]], dtype=float32)"
      ]
     },
     "execution_count": 80,
     "metadata": {},
     "output_type": "execute_result"
    }
   ],
   "source": [
    "model.predict([100.0])"
   ]
  }
 ],
 "metadata": {
  "kernelspec": {
   "display_name": "Python 3",
   "language": "python",
   "name": "python3"
  },
  "language_info": {
   "codemirror_mode": {
    "name": "ipython",
    "version": 3
   },
   "file_extension": ".py",
   "mimetype": "text/x-python",
   "name": "python",
   "nbconvert_exporter": "python",
   "pygments_lexer": "ipython3",
   "version": "3.7.2"
  }
 },
 "nbformat": 4,
 "nbformat_minor": 2
}
