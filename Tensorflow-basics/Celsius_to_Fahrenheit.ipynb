{
 "cells": [
  {
   "cell_type": "markdown",
   "metadata": {},
   "source": [
    "# Celsius to Fahrenheit"
   ]
  },
  {
   "cell_type": "code",
   "execution_count": 115,
   "metadata": {},
   "outputs": [],
   "source": [
    "import numpy as np\n",
    "import tensorflow as tf\n",
    "import matplotlib.pyplot as plt"
   ]
  },
  {
   "cell_type": "code",
   "execution_count": 116,
   "metadata": {},
   "outputs": [],
   "source": [
    "celsius = np.array([-40, -10,  0,  8, 15, 22,  38], dtype=float)\n",
    "fahrenheit = np.array([-40,  14, 32, 46, 59, 72, 100], dtype=float)"
   ]
  },
  {
   "cell_type": "code",
   "execution_count": 117,
   "metadata": {},
   "outputs": [
    {
     "name": "stdout",
     "output_type": "stream",
     "text": [
      "Fahrenheit = -40.0, Celsius = -40.0\n",
      "Fahrenheit = 14.0, Celsius = -10.0\n",
      "Fahrenheit = 32.0, Celsius = 0.0\n",
      "Fahrenheit = 46.0, Celsius = 8.0\n",
      "Fahrenheit = 59.0, Celsius = 15.0\n",
      "Fahrenheit = 72.0, Celsius = 22.0\n",
      "Fahrenheit = 100.0, Celsius = 38.0\n"
     ]
    }
   ],
   "source": [
    "for i, f in enumerate(fahrenheit):\n",
    "    print('Fahrenheit = ' + str(f) + ', Celsius = ' + str(celsius[i]))"
   ]
  },
  {
   "cell_type": "code",
   "execution_count": 118,
   "metadata": {},
   "outputs": [],
   "source": [
    "model = tf.keras.Sequential([\n",
    "    tf.keras.layers.Dense(units=1, input_shape=[1])\n",
    "])"
   ]
  },
  {
   "cell_type": "code",
   "execution_count": 119,
   "metadata": {},
   "outputs": [],
   "source": [
    "model.compile(loss='mean_squared_error', optimizer=tf.keras.optimizers.Adam(0.1))"
   ]
  },
  {
   "cell_type": "code",
   "execution_count": 120,
   "metadata": {},
   "outputs": [
    {
     "data": {
      "text/plain": [
       "[<matplotlib.lines.Line2D at 0x1317c6fd0>]"
      ]
     },
     "execution_count": 120,
     "metadata": {},
     "output_type": "execute_result"
    },
    {
     "data": {
      "image/png": "[encoded data removed]",
      "text/plain": [
       "<Figure size 432x288 with 1 Axes>"
      ]
     },
     "metadata": {
      "needs_background": "light"
     },
     "output_type": "display_data"
    }
   ],
   "source": [
    "history = model.fit(x=celsius, y=fahrenheit, epochs=500, verbose=False)\n",
    "plt.plot(history.history['loss'])"
   ]
  },
  {
   "cell_type": "code",
   "execution_count": 121,
   "metadata": {},
   "outputs": [
    {
     "data": {
      "text/plain": [
       "array([[211.27812]], dtype=float32)"
      ]
     },
     "execution_count": 121,
     "metadata": {},
     "output_type": "execute_result"
    }
   ],
   "source": [
    "model.predict([100.0])"
   ]
  },
  {
   "cell_type": "code",
   "execution_count": 122,
   "metadata": {},
   "outputs": [
    {
     "name": "stdout",
     "output_type": "stream",
     "text": [
      "Weights of the layer_1: [array([[1.8287963]], dtype=float32), array([28.398502], dtype=float32)]\n"
     ]
    }
   ],
   "source": [
    "print('Weights of the layer_1: {}'.format(model.get_weights()))"
   ]
  },
  {
   "cell_type": "code",
   "execution_count": 123,
   "metadata": {},
   "outputs": [],
   "source": [
    "model = tf.keras.Sequential([\n",
    "    tf.keras.layers.Dense(units=4, input_shape=[1]),\n",
    "    tf.keras.layers.Dense(units=4),\n",
    "    tf.keras.layers.Dense(units=1)\n",
    "])"
   ]
  },
  {
   "cell_type": "code",
   "execution_count": 124,
   "metadata": {},
   "outputs": [],
   "source": [
    "model.compile(loss='mean_squared_error', optimizer=tf.keras.optimizers.Adam(0.01))"
   ]
  },
  {
   "cell_type": "code",
   "execution_count": 125,
   "metadata": {},
   "outputs": [
    {
     "data": {
      "text/plain": [
       "[<matplotlib.lines.Line2D at 0x1332affd0>]"
      ]
     },
     "execution_count": 125,
     "metadata": {},
     "output_type": "execute_result"
    },
    {
     "data": {
      "image/png": "[encoded data removed]",
      "text/plain": [
       "<Figure size 432x288 with 1 Axes>"
      ]
     },
     "metadata": {
      "needs_background": "light"
     },
     "output_type": "display_data"
    }
   ],
   "source": [
    "history = model.fit(x=celsius, y=fahenheit, epochs=1000, verbose=False)\n",
    "plt.plot(history.history['loss'])"
   ]
  },
  {
   "cell_type": "code",
   "execution_count": 100,
   "metadata": {},
   "outputs": [
    {
     "name": "stdout",
     "output_type": "stream",
     "text": [
      "*****Printing the weight******\n"
     ]
    },
    {
     "data": {
      "text/plain": [
       "[array([[ 0.2462485 ,  0.31958905, -0.1652926 ,  0.75989366]],\n",
       "       dtype=float32),\n",
       " array([-2.177447 ,  1.8661427, -1.8281875,  1.7418429], dtype=float32),\n",
       " array([[ 2.0793183 , -1.0831125 ,  0.5790286 , -1.2459131 ],\n",
       "        [-1.1274389 , -0.0051483 , -0.00214877,  0.8751197 ],\n",
       "        [ 1.0984266 , -0.7006319 ,  1.4464272 , -1.1837715 ],\n",
       "        [-0.95288926,  0.9811606 , -0.9499366 ,  0.1264065 ]],\n",
       "       dtype=float32),\n",
       " array([-1.8644828,  1.6441088, -1.6696755,  1.6091219], dtype=float32),\n",
       " array([[-0.5433388 ],\n",
       "        [ 0.7870501 ],\n",
       "        [-0.57201475],\n",
       "        [ 1.7122512 ]], dtype=float32),\n",
       " array([1.4306208], dtype=float32)]"
      ]
     },
     "execution_count": 100,
     "metadata": {},
     "output_type": "execute_result"
    }
   ],
   "source": [
    "print('*****Printing the weight******')\n",
    "model.get_weights()"
   ]
  },
  {
   "cell_type": "code",
   "execution_count": 98,
   "metadata": {},
   "outputs": [
    {
     "data": {
      "text/plain": [
       "array([[211.74745]], dtype=float32)"
      ]
     },
     "execution_count": 98,
     "metadata": {},
     "output_type": "execute_result"
    }
   ],
   "source": [
    "model.predict([100.0])"
   ]
  },
  {
   "cell_type": "code",
   "execution_count": null,
   "metadata": {},
   "outputs": [],
   "source": []
  }
 ],
 "metadata": {
  "kernelspec": {
   "display_name": "Python 3",
   "language": "python",
   "name": "python3"
  },
  "language_info": {
   "codemirror_mode": {
    "name": "ipython",
    "version": 3
   },
   "file_extension": ".py",
   "mimetype": "text/x-python",
   "name": "python",
   "nbconvert_exporter": "python",
   "pygments_lexer": "ipython3",
   "version": "3.7.2"
  }
 },
 "nbformat": 4,
 "nbformat_minor": 2
}
